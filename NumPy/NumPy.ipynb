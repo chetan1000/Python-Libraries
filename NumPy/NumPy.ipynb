{
 "cells": [
  {
   "cell_type": "markdown",
   "id": "87b6f24b",
   "metadata": {},
   "source": [
    "## Load in NumPy(remamber to pip install first)"
   ]
  },
  {
   "cell_type": "code",
   "execution_count": 1,
   "id": "0bdfc2e9",
   "metadata": {},
   "outputs": [],
   "source": [
    "# pip install numpy\n",
    "import numpy as np"
   ]
  },
  {
   "cell_type": "markdown",
   "id": "2bbf477a",
   "metadata": {},
   "source": [
    "## The Basics"
   ]
  },
  {
   "cell_type": "code",
   "execution_count": 2,
   "id": "f4ca3ea3",
   "metadata": {},
   "outputs": [
    {
     "name": "stdout",
     "output_type": "stream",
     "text": [
      "[1 2 3]\n"
     ]
    }
   ],
   "source": [
    "a = np.array([1, 2, 3])\n",
    "print(a)                        # by default datatype is 'int32'  , but we can change as our need"
   ]
  },
  {
   "cell_type": "code",
   "execution_count": 3,
   "id": "86d843d7",
   "metadata": {},
   "outputs": [
    {
     "name": "stdout",
     "output_type": "stream",
     "text": [
      "[[9. 8. 7.]\n",
      " [6. 5. 4.]]\n"
     ]
    }
   ],
   "source": [
    "b = np.array([[9.0, 8.0, 7.0], [6.0, 5.0, 4.0]])       # 2D array\n",
    "print(b)                                               # list within list"
   ]
  },
  {
   "cell_type": "code",
   "execution_count": 4,
   "id": "41b49e78",
   "metadata": {},
   "outputs": [
    {
     "name": "stdout",
     "output_type": "stream",
     "text": [
      "[[1 2 3]\n",
      " [4 5 6]\n",
      " [8 9 0]]\n"
     ]
    }
   ],
   "source": [
    "c = np.array([[1, 2, 3], [4, 5, 6], [8, 9, 0]], dtype = 'int16')\n",
    "print(c)"
   ]
  },
  {
   "cell_type": "code",
   "execution_count": 5,
   "id": "bb197cfc",
   "metadata": {},
   "outputs": [
    {
     "name": "stdout",
     "output_type": "stream",
     "text": [
      "[[1 2 3]]\n"
     ]
    }
   ],
   "source": [
    "a1 = np.array([[1, 2, 3]])\n",
    "print(a1)"
   ]
  },
  {
   "cell_type": "code",
   "execution_count": 6,
   "id": "6f78eb3d",
   "metadata": {},
   "outputs": [
    {
     "data": {
      "text/plain": [
       "1"
      ]
     },
     "execution_count": 6,
     "metadata": {},
     "output_type": "execute_result"
    }
   ],
   "source": [
    "# Get Dimension\n",
    "a.ndim                  # to get dimension of array\n",
    "                        # a is 1-D array "
   ]
  },
  {
   "cell_type": "code",
   "execution_count": 7,
   "id": "38a71447",
   "metadata": {},
   "outputs": [
    {
     "data": {
      "text/plain": [
       "2"
      ]
     },
     "execution_count": 7,
     "metadata": {},
     "output_type": "execute_result"
    }
   ],
   "source": [
    "b.ndim                 # 2-D array"
   ]
  },
  {
   "cell_type": "code",
   "execution_count": 8,
   "id": "dd9de091",
   "metadata": {},
   "outputs": [
    {
     "data": {
      "text/plain": [
       "dtype('int32')"
      ]
     },
     "execution_count": 8,
     "metadata": {},
     "output_type": "execute_result"
    }
   ],
   "source": [
    "# Get Type\n",
    "a.dtype"
   ]
  },
  {
   "cell_type": "code",
   "execution_count": 9,
   "id": "56338953",
   "metadata": {},
   "outputs": [
    {
     "data": {
      "text/plain": [
       "dtype('float64')"
      ]
     },
     "execution_count": 9,
     "metadata": {},
     "output_type": "execute_result"
    }
   ],
   "source": [
    "b.dtype"
   ]
  },
  {
   "cell_type": "code",
   "execution_count": 10,
   "id": "8a0611cc",
   "metadata": {},
   "outputs": [
    {
     "data": {
      "text/plain": [
       "4"
      ]
     },
     "execution_count": 10,
     "metadata": {},
     "output_type": "execute_result"
    }
   ],
   "source": [
    "# get Size\n",
    "a.itemsize "
   ]
  },
  {
   "cell_type": "code",
   "execution_count": 11,
   "id": "7df16e81",
   "metadata": {},
   "outputs": [
    {
     "data": {
      "text/plain": [
       "8"
      ]
     },
     "execution_count": 11,
     "metadata": {},
     "output_type": "execute_result"
    }
   ],
   "source": [
    "b.itemsize"
   ]
  },
  {
   "cell_type": "code",
   "execution_count": 12,
   "id": "12f84a2f",
   "metadata": {},
   "outputs": [
    {
     "data": {
      "text/plain": [
       "dtype('int16')"
      ]
     },
     "execution_count": 12,
     "metadata": {},
     "output_type": "execute_result"
    }
   ],
   "source": [
    "c.dtype"
   ]
  },
  {
   "cell_type": "code",
   "execution_count": 13,
   "id": "e37b3f80",
   "metadata": {},
   "outputs": [
    {
     "data": {
      "text/plain": [
       "2"
      ]
     },
     "execution_count": 13,
     "metadata": {},
     "output_type": "execute_result"
    }
   ],
   "source": [
    "c.itemsize\n",
    "# the contents in the array are irrelevant - only the data-type is important here. \n",
    "# We set the datatype of the array as \"int16\", which means that each item in the array will be 2 bytes (i.e. 16 bits)."
   ]
  },
  {
   "cell_type": "code",
   "execution_count": 14,
   "id": "88e7a74c",
   "metadata": {},
   "outputs": [
    {
     "data": {
      "text/plain": [
       "3"
      ]
     },
     "execution_count": 14,
     "metadata": {},
     "output_type": "execute_result"
    }
   ],
   "source": [
    "# Get total size\n",
    "a.size                       # total number of elements present in matrix"
   ]
  },
  {
   "cell_type": "code",
   "execution_count": 15,
   "id": "2c8e4fcc",
   "metadata": {},
   "outputs": [
    {
     "data": {
      "text/plain": [
       "6"
      ]
     },
     "execution_count": 15,
     "metadata": {},
     "output_type": "execute_result"
    }
   ],
   "source": [
    "b.size"
   ]
  },
  {
   "cell_type": "code",
   "execution_count": 16,
   "id": "0f657cef",
   "metadata": {},
   "outputs": [
    {
     "data": {
      "text/plain": [
       "9"
      ]
     },
     "execution_count": 16,
     "metadata": {},
     "output_type": "execute_result"
    }
   ],
   "source": [
    "c.size"
   ]
  },
  {
   "cell_type": "code",
   "execution_count": 17,
   "id": "9ce2de4a",
   "metadata": {},
   "outputs": [
    {
     "data": {
      "text/plain": [
       "12"
      ]
     },
     "execution_count": 17,
     "metadata": {},
     "output_type": "execute_result"
    }
   ],
   "source": [
    "a.size * a.itemsize             # (elements of array * memory size used in bytes used by each item) = nbytes"
   ]
  },
  {
   "cell_type": "code",
   "execution_count": 18,
   "id": "42aaef8b",
   "metadata": {},
   "outputs": [
    {
     "data": {
      "text/plain": [
       "12"
      ]
     },
     "execution_count": 18,
     "metadata": {},
     "output_type": "execute_result"
    }
   ],
   "source": [
    "a.nbytes                       \n",
    "# Numpy's nbytes property returns the memory consumed by all the elements of the array in bytes."
   ]
  },
  {
   "cell_type": "code",
   "execution_count": 19,
   "id": "13d1a352",
   "metadata": {},
   "outputs": [
    {
     "data": {
      "text/plain": [
       "18"
      ]
     },
     "execution_count": 19,
     "metadata": {},
     "output_type": "execute_result"
    }
   ],
   "source": [
    "c.nbytes\n",
    "# Here, each number in the array is represented as a int16, which means that each item consumes 2 bytes of memory. Since we have 9 elements in the array, \n",
    "# the total number of bytes consumed is 9*2=18."
   ]
  },
  {
   "cell_type": "code",
   "execution_count": 20,
   "id": "179dc4b6",
   "metadata": {},
   "outputs": [
    {
     "data": {
      "text/plain": [
       "(3,)"
      ]
     },
     "execution_count": 20,
     "metadata": {},
     "output_type": "execute_result"
    }
   ],
   "source": [
    "# Get the shape\n",
    "a.shape                         \n",
    "# Shape: (3,),  This creates a 1-dimensional array (also known as a 1D or a rank-1 array) with three elements: [1, 2, 3]"
   ]
  },
  {
   "cell_type": "code",
   "execution_count": 21,
   "id": "0faa890f",
   "metadata": {},
   "outputs": [
    {
     "data": {
      "text/plain": [
       "(1, 3)"
      ]
     },
     "execution_count": 21,
     "metadata": {},
     "output_type": "execute_result"
    }
   ],
   "source": [
    "a1.shape                   #This creates a 2-dimensional array (also known as a 2D or a rank-2 array) with a single row containing three elements: [[1, 2, 3]]."
   ]
  },
  {
   "cell_type": "code",
   "execution_count": 22,
   "id": "e2d27417",
   "metadata": {},
   "outputs": [
    {
     "data": {
      "text/plain": [
       "(2, 3)"
      ]
     },
     "execution_count": 22,
     "metadata": {},
     "output_type": "execute_result"
    }
   ],
   "source": [
    "b.shape"
   ]
  },
  {
   "cell_type": "code",
   "execution_count": 23,
   "id": "7ca8781f",
   "metadata": {},
   "outputs": [
    {
     "data": {
      "text/plain": [
       "(3, 3)"
      ]
     },
     "execution_count": 23,
     "metadata": {},
     "output_type": "execute_result"
    }
   ],
   "source": [
    "c.shape"
   ]
  },
  {
   "cell_type": "code",
   "execution_count": null,
   "id": "12198731",
   "metadata": {},
   "outputs": [],
   "source": []
  },
  {
   "cell_type": "code",
   "execution_count": 24,
   "id": "b0147aff",
   "metadata": {},
   "outputs": [],
   "source": [
    "arr = np.array([[[1, 2, 3], [4, 5, 6]], [[7, 8, 9], [10, 11, 12]]])"
   ]
  },
  {
   "cell_type": "code",
   "execution_count": 25,
   "id": "8e1406bc",
   "metadata": {},
   "outputs": [
    {
     "name": "stdout",
     "output_type": "stream",
     "text": [
      "[[[ 1  2  3]\n",
      "  [ 4  5  6]]\n",
      "\n",
      " [[ 7  8  9]\n",
      "  [10 11 12]]]\n"
     ]
    }
   ],
   "source": [
    "print(arr)"
   ]
  },
  {
   "cell_type": "code",
   "execution_count": 26,
   "id": "2771b598",
   "metadata": {},
   "outputs": [
    {
     "data": {
      "text/plain": [
       "(2, 2, 3)"
      ]
     },
     "execution_count": 26,
     "metadata": {},
     "output_type": "execute_result"
    }
   ],
   "source": [
    "arr.shape"
   ]
  },
  {
   "cell_type": "code",
   "execution_count": 27,
   "id": "82a55363",
   "metadata": {},
   "outputs": [
    {
     "data": {
      "text/plain": [
       "5"
      ]
     },
     "execution_count": 27,
     "metadata": {},
     "output_type": "execute_result"
    }
   ],
   "source": [
    "arr[0][1][1]"
   ]
  },
  {
   "cell_type": "code",
   "execution_count": 28,
   "id": "982dd05a",
   "metadata": {},
   "outputs": [
    {
     "data": {
      "text/plain": [
       "dtype('int32')"
      ]
     },
     "execution_count": 28,
     "metadata": {},
     "output_type": "execute_result"
    }
   ],
   "source": [
    "arr.dtype"
   ]
  },
  {
   "cell_type": "code",
   "execution_count": 29,
   "id": "9ba6636b",
   "metadata": {},
   "outputs": [
    {
     "data": {
      "text/plain": [
       "12"
      ]
     },
     "execution_count": 29,
     "metadata": {},
     "output_type": "execute_result"
    }
   ],
   "source": [
    "arr.size"
   ]
  },
  {
   "cell_type": "code",
   "execution_count": 30,
   "id": "91975fe2",
   "metadata": {},
   "outputs": [
    {
     "data": {
      "text/plain": [
       "4"
      ]
     },
     "execution_count": 30,
     "metadata": {},
     "output_type": "execute_result"
    }
   ],
   "source": [
    "arr.itemsize"
   ]
  },
  {
   "cell_type": "code",
   "execution_count": 31,
   "id": "98f55f8e",
   "metadata": {},
   "outputs": [
    {
     "data": {
      "text/plain": [
       "48"
      ]
     },
     "execution_count": 31,
     "metadata": {},
     "output_type": "execute_result"
    }
   ],
   "source": [
    "arr.nbytes"
   ]
  },
  {
   "cell_type": "code",
   "execution_count": 32,
   "id": "953fc1b9",
   "metadata": {},
   "outputs": [
    {
     "data": {
      "text/plain": [
       "3"
      ]
     },
     "execution_count": 32,
     "metadata": {},
     "output_type": "execute_result"
    }
   ],
   "source": [
    "arr.ndim"
   ]
  },
  {
   "cell_type": "code",
   "execution_count": 33,
   "id": "810a44ba",
   "metadata": {},
   "outputs": [],
   "source": [
    "array_3d = np.array([\n",
    "    [[1, 2, 3], [4, 5, 6]],\n",
    "    [[7, 8, 9], [10, 11, 12]],\n",
    "    [[13, 14, 15], [16, 17, 18]]\n",
    "])"
   ]
  },
  {
   "cell_type": "code",
   "execution_count": 34,
   "id": "6d1b7036",
   "metadata": {},
   "outputs": [
    {
     "name": "stdout",
     "output_type": "stream",
     "text": [
      "[[[ 1  2  3]\n",
      "  [ 4  5  6]]\n",
      "\n",
      " [[ 7  8  9]\n",
      "  [10 11 12]]\n",
      "\n",
      " [[13 14 15]\n",
      "  [16 17 18]]]\n"
     ]
    }
   ],
   "source": [
    "print(array_3d)"
   ]
  },
  {
   "cell_type": "code",
   "execution_count": 35,
   "id": "9859bb76",
   "metadata": {},
   "outputs": [
    {
     "data": {
      "text/plain": [
       "(3, 2, 3)"
      ]
     },
     "execution_count": 35,
     "metadata": {},
     "output_type": "execute_result"
    }
   ],
   "source": [
    "array_3d.shape\n",
    "\n",
    "# In this case, the shape (3, 2, 3) can be interpreted as follows:\n",
    "\n",
    "# The first dimension has a size of 3, indicating that there are 3 2D arrays within the 3D array.\n",
    "# The second dimension has a size of 2, indicating that each 2D array has 2 rows.\n",
    "# The third dimension has a size of 3, indicating that each row within each 2D array has 3 columns.\n",
    "# Therefore, the array_3d consists of 3 2D arrays, each with 2 rows and 3 columns."
   ]
  },
  {
   "cell_type": "code",
   "execution_count": 36,
   "id": "a5a9fc56",
   "metadata": {},
   "outputs": [
    {
     "data": {
      "text/plain": [
       "3"
      ]
     },
     "execution_count": 36,
     "metadata": {},
     "output_type": "execute_result"
    }
   ],
   "source": [
    "array_3d.ndim"
   ]
  },
  {
   "cell_type": "code",
   "execution_count": 37,
   "id": "8fac6226",
   "metadata": {},
   "outputs": [
    {
     "data": {
      "text/plain": [
       "18"
      ]
     },
     "execution_count": 37,
     "metadata": {},
     "output_type": "execute_result"
    }
   ],
   "source": [
    "array_3d.size"
   ]
  },
  {
   "cell_type": "code",
   "execution_count": 38,
   "id": "3a2b39d4",
   "metadata": {},
   "outputs": [
    {
     "data": {
      "text/plain": [
       "4"
      ]
     },
     "execution_count": 38,
     "metadata": {},
     "output_type": "execute_result"
    }
   ],
   "source": [
    "array_3d.itemsize"
   ]
  },
  {
   "cell_type": "code",
   "execution_count": 39,
   "id": "6b8a4f00",
   "metadata": {},
   "outputs": [
    {
     "data": {
      "text/plain": [
       "72"
      ]
     },
     "execution_count": 39,
     "metadata": {},
     "output_type": "execute_result"
    }
   ],
   "source": [
    "array_3d.nbytes"
   ]
  },
  {
   "cell_type": "markdown",
   "id": "0c6a8fec",
   "metadata": {},
   "source": [
    "## Accessing/Changing specific elements, rows, columns, etc"
   ]
  },
  {
   "cell_type": "code",
   "execution_count": 40,
   "id": "21f5acf9",
   "metadata": {},
   "outputs": [],
   "source": [
    "a = np.array([[1, 2, 3, 4, 5, 6, 7],[8, 9, 10, 11, 12, 13, 14]])"
   ]
  },
  {
   "cell_type": "code",
   "execution_count": 41,
   "id": "7c16d697",
   "metadata": {},
   "outputs": [
    {
     "data": {
      "text/plain": [
       "array([[ 1,  2,  3,  4,  5,  6,  7],\n",
       "       [ 8,  9, 10, 11, 12, 13, 14]])"
      ]
     },
     "execution_count": 41,
     "metadata": {},
     "output_type": "execute_result"
    }
   ],
   "source": [
    "a"
   ]
  },
  {
   "cell_type": "code",
   "execution_count": 42,
   "id": "38cb581e",
   "metadata": {},
   "outputs": [
    {
     "data": {
      "text/plain": [
       "2"
      ]
     },
     "execution_count": 42,
     "metadata": {},
     "output_type": "execute_result"
    }
   ],
   "source": [
    "a.ndim"
   ]
  },
  {
   "cell_type": "code",
   "execution_count": 43,
   "id": "7905be7b",
   "metadata": {},
   "outputs": [
    {
     "data": {
      "text/plain": [
       "14"
      ]
     },
     "execution_count": 43,
     "metadata": {},
     "output_type": "execute_result"
    }
   ],
   "source": [
    "# Get a specific element\n",
    "a[1, 6]                      # counting of rows and column starts from 0"
   ]
  },
  {
   "cell_type": "code",
   "execution_count": 44,
   "id": "02f07fd6",
   "metadata": {},
   "outputs": [],
   "source": [
    "# a[1, 7]          # Error, index 7 is out of bounds for axis 1 with size 7"
   ]
  },
  {
   "cell_type": "code",
   "execution_count": 45,
   "id": "3a708285",
   "metadata": {},
   "outputs": [
    {
     "data": {
      "text/plain": [
       "7"
      ]
     },
     "execution_count": 45,
     "metadata": {},
     "output_type": "execute_result"
    }
   ],
   "source": [
    "a[0, -1]             # we can also use -ve index to access"
   ]
  },
  {
   "cell_type": "code",
   "execution_count": 46,
   "id": "13350328",
   "metadata": {},
   "outputs": [
    {
     "data": {
      "text/plain": [
       "array([1, 2, 3, 4, 5, 6, 7])"
      ]
     },
     "execution_count": 46,
     "metadata": {},
     "output_type": "execute_result"
    }
   ],
   "source": [
    "a[0, :]"
   ]
  },
  {
   "cell_type": "code",
   "execution_count": 47,
   "id": "60a59bc5",
   "metadata": {},
   "outputs": [
    {
     "data": {
      "text/plain": [
       "array([[[ 1,  2,  3],\n",
       "        [ 4,  5,  6]],\n",
       "\n",
       "       [[ 7,  8,  9],\n",
       "        [10, 11, 12]],\n",
       "\n",
       "       [[13, 14, 15],\n",
       "        [16, 17, 18]]])"
      ]
     },
     "execution_count": 47,
     "metadata": {},
     "output_type": "execute_result"
    }
   ],
   "source": [
    "array_3d"
   ]
  },
  {
   "cell_type": "code",
   "execution_count": 48,
   "id": "7a16911c",
   "metadata": {},
   "outputs": [
    {
     "data": {
      "text/plain": [
       "15"
      ]
     },
     "execution_count": 48,
     "metadata": {},
     "output_type": "execute_result"
    }
   ],
   "source": [
    "array_3d[2, 0, 2]"
   ]
  },
  {
   "cell_type": "code",
   "execution_count": 49,
   "id": "7edb8dc1",
   "metadata": {},
   "outputs": [
    {
     "data": {
      "text/plain": [
       "11"
      ]
     },
     "execution_count": 49,
     "metadata": {},
     "output_type": "execute_result"
    }
   ],
   "source": [
    "array_3d[1, 1, 1]"
   ]
  },
  {
   "cell_type": "code",
   "execution_count": 50,
   "id": "3f448c24",
   "metadata": {},
   "outputs": [
    {
     "data": {
      "text/plain": [
       "array([ 4, 11])"
      ]
     },
     "execution_count": 50,
     "metadata": {},
     "output_type": "execute_result"
    }
   ],
   "source": [
    "# Get a Specific Column\n",
    "a[:, 3]                                            # : slicing operator, which means all the elements from that particular axis(rows)\n",
    "                                                # 3 is 3rd column\n",
    "                                               # returns in all rows element of 3rd column in array(list) format "
   ]
  },
  {
   "cell_type": "code",
   "execution_count": 51,
   "id": "7e804a79",
   "metadata": {},
   "outputs": [
    {
     "data": {
      "text/plain": [
       "array([[ 3,  6],\n",
       "       [ 9, 12],\n",
       "       [15, 18]])"
      ]
     },
     "execution_count": 51,
     "metadata": {},
     "output_type": "execute_result"
    }
   ],
   "source": [
    "array_3d[:, :, 2]"
   ]
  },
  {
   "cell_type": "code",
   "execution_count": 52,
   "id": "419784b3",
   "metadata": {},
   "outputs": [
    {
     "data": {
      "text/plain": [
       "array([[ 4,  5,  6],\n",
       "       [10, 11, 12],\n",
       "       [16, 17, 18]])"
      ]
     },
     "execution_count": 52,
     "metadata": {},
     "output_type": "execute_result"
    }
   ],
   "source": [
    "array_3d[:, 1, :]"
   ]
  },
  {
   "cell_type": "code",
   "execution_count": 53,
   "id": "9e522d53",
   "metadata": {},
   "outputs": [
    {
     "data": {
      "text/plain": [
       "array([[[ 1,  2,  3],\n",
       "        [ 4,  5,  6]],\n",
       "\n",
       "       [[ 7,  8,  9],\n",
       "        [10, 11, 12]],\n",
       "\n",
       "       [[13, 14, 15],\n",
       "        [16, 17, 18]]])"
      ]
     },
     "execution_count": 53,
     "metadata": {},
     "output_type": "execute_result"
    }
   ],
   "source": [
    "array_3d[:, :, :]"
   ]
  },
  {
   "cell_type": "code",
   "execution_count": 54,
   "id": "21033e84",
   "metadata": {},
   "outputs": [
    {
     "data": {
      "text/plain": [
       "array([[ 7],\n",
       "       [10]])"
      ]
     },
     "execution_count": 54,
     "metadata": {},
     "output_type": "execute_result"
    }
   ],
   "source": [
    "array_3d[1, :, 0:-2]"
   ]
  },
  {
   "cell_type": "code",
   "execution_count": 55,
   "id": "7d801f81",
   "metadata": {},
   "outputs": [
    {
     "data": {
      "text/plain": [
       "array([[13, 14],\n",
       "       [16, 17]])"
      ]
     },
     "execution_count": 55,
     "metadata": {},
     "output_type": "execute_result"
    }
   ],
   "source": [
    "array_3d[2, :, 0:2]"
   ]
  },
  {
   "cell_type": "code",
   "execution_count": 56,
   "id": "e1aa5df8",
   "metadata": {},
   "outputs": [
    {
     "data": {
      "text/plain": [
       "array([[ 1,  2,  3,  4,  5,  6,  7],\n",
       "       [ 8,  9, 10, 11, 12, 13, 14]])"
      ]
     },
     "execution_count": 56,
     "metadata": {},
     "output_type": "execute_result"
    }
   ],
   "source": [
    "# Getting little more fancy [startindex: endindex: stepsize]\n",
    "a"
   ]
  },
  {
   "cell_type": "code",
   "execution_count": 57,
   "id": "1307cca5",
   "metadata": {},
   "outputs": [
    {
     "data": {
      "text/plain": [
       "array([2, 4, 6])"
      ]
     },
     "execution_count": 57,
     "metadata": {},
     "output_type": "execute_result"
    }
   ],
   "source": [
    "a[0, 1:6:2]"
   ]
  },
  {
   "cell_type": "code",
   "execution_count": 58,
   "id": "b5fda4c5",
   "metadata": {},
   "outputs": [
    {
     "data": {
      "text/plain": [
       "array([], dtype=int32)"
      ]
     },
     "execution_count": 58,
     "metadata": {},
     "output_type": "execute_result"
    }
   ],
   "source": [
    "a[0, 1:6:-1]                 # empty"
   ]
  },
  {
   "cell_type": "code",
   "execution_count": 59,
   "id": "64066ef5",
   "metadata": {},
   "outputs": [
    {
     "data": {
      "text/plain": [
       "array([2, 4, 6])"
      ]
     },
     "execution_count": 59,
     "metadata": {},
     "output_type": "execute_result"
    }
   ],
   "source": [
    "a[0, 1:-1:2]"
   ]
  },
  {
   "cell_type": "code",
   "execution_count": 60,
   "id": "fe265837",
   "metadata": {},
   "outputs": [
    {
     "name": "stdout",
     "output_type": "stream",
     "text": [
      "[[  1   2   3   4   5   6   7]\n",
      " [  8   9  10 111  12  13  14]]\n"
     ]
    }
   ],
   "source": [
    "# changing element\n",
    "a[1, 3] =111\n",
    "print(a)"
   ]
  },
  {
   "cell_type": "code",
   "execution_count": 61,
   "id": "ef498ee0",
   "metadata": {},
   "outputs": [
    {
     "name": "stdout",
     "output_type": "stream",
     "text": [
      "[[  1   2   3   4   5  14   7]\n",
      " [  8   9  10 111  12  15  14]]\n"
     ]
    }
   ],
   "source": [
    "# changing whole column elements\n",
    "a[:, 5] = [14,15]\n",
    "print(a)"
   ]
  },
  {
   "cell_type": "code",
   "execution_count": 62,
   "id": "686a0335",
   "metadata": {},
   "outputs": [
    {
     "name": "stdout",
     "output_type": "stream",
     "text": [
      "[[ 5  5  5  5  5  5  5]\n",
      " [ 2  4  6  8 10 12 14]]\n"
     ]
    }
   ],
   "source": [
    "# changing whole row elements\n",
    "a[0, :] = [5]\n",
    "a[1, :] = [2, 4, 6, 8, 10, 12, 14]\n",
    "print(a)"
   ]
  },
  {
   "cell_type": "markdown",
   "id": "e74045ad",
   "metadata": {},
   "source": [
    "3-D Example"
   ]
  },
  {
   "cell_type": "code",
   "execution_count": 63,
   "id": "9aa5cd98",
   "metadata": {},
   "outputs": [
    {
     "name": "stdout",
     "output_type": "stream",
     "text": [
      "[[[1 2]\n",
      "  [3 4]]\n",
      "\n",
      " [[5 6]\n",
      "  [7 8]]]\n"
     ]
    },
    {
     "data": {
      "text/plain": [
       "3"
      ]
     },
     "execution_count": 63,
     "metadata": {},
     "output_type": "execute_result"
    }
   ],
   "source": [
    "b = np.array([[[1,2], [3, 4]], [[5, 6], [7, 8]]])\n",
    "print(b)\n",
    "b.ndim                                      # 3 Dimensions means [[[ ]]]"
   ]
  },
  {
   "cell_type": "code",
   "execution_count": 64,
   "id": "76e7624d",
   "metadata": {},
   "outputs": [
    {
     "data": {
      "text/plain": [
       "4"
      ]
     },
     "execution_count": 64,
     "metadata": {},
     "output_type": "execute_result"
    }
   ],
   "source": [
    "b[0, 1, 1]"
   ]
  },
  {
   "cell_type": "code",
   "execution_count": 65,
   "id": "d1780e0d",
   "metadata": {},
   "outputs": [
    {
     "data": {
      "text/plain": [
       "array([[3, 4],\n",
       "       [7, 8]])"
      ]
     },
     "execution_count": 65,
     "metadata": {},
     "output_type": "execute_result"
    }
   ],
   "source": [
    "b[:, 1, :]"
   ]
  },
  {
   "cell_type": "code",
   "execution_count": 66,
   "id": "d327c022",
   "metadata": {},
   "outputs": [
    {
     "data": {
      "text/plain": [
       "array([1, 3])"
      ]
     },
     "execution_count": 66,
     "metadata": {},
     "output_type": "execute_result"
    }
   ],
   "source": [
    " b[0, :, 0]"
   ]
  },
  {
   "cell_type": "code",
   "execution_count": 67,
   "id": "54583eb8",
   "metadata": {},
   "outputs": [
    {
     "data": {
      "text/plain": [
       "array([[1, 2],\n",
       "       [5, 6]])"
      ]
     },
     "execution_count": 67,
     "metadata": {},
     "output_type": "execute_result"
    }
   ],
   "source": [
    "b[:, 0, :]"
   ]
  },
  {
   "cell_type": "code",
   "execution_count": 68,
   "id": "1e28d959",
   "metadata": {},
   "outputs": [
    {
     "data": {
      "text/plain": [
       "array([1, 5])"
      ]
     },
     "execution_count": 68,
     "metadata": {},
     "output_type": "execute_result"
    }
   ],
   "source": [
    "b[:, 0, 0]"
   ]
  },
  {
   "cell_type": "code",
   "execution_count": 69,
   "id": "60bb0fa4",
   "metadata": {},
   "outputs": [
    {
     "data": {
      "text/plain": [
       "array([[3, 4],\n",
       "       [7, 8]])"
      ]
     },
     "execution_count": 69,
     "metadata": {},
     "output_type": "execute_result"
    }
   ],
   "source": [
    "# replace\n",
    "b[: , 1, :]"
   ]
  },
  {
   "cell_type": "code",
   "execution_count": 70,
   "id": "b0ba0a66",
   "metadata": {},
   "outputs": [
    {
     "name": "stdout",
     "output_type": "stream",
     "text": [
      "[[[ 1  2]\n",
      "  [ 7  7]]\n",
      "\n",
      " [[ 5  6]\n",
      "  [18 18]]]\n"
     ]
    }
   ],
   "source": [
    "b[: , 1, :] = [[7, 7], [18, 18]]\n",
    "print(b)"
   ]
  },
  {
   "cell_type": "code",
   "execution_count": 71,
   "id": "5236c4c8",
   "metadata": {},
   "outputs": [],
   "source": [
    "# b[: , 1, :] = [[7, 7], [18, 18, 18]]              # error"
   ]
  },
  {
   "cell_type": "markdown",
   "id": "d5f7f17b",
   "metadata": {},
   "source": [
    "## Intializing Different Types of Arrays"
   ]
  },
  {
   "cell_type": "markdown",
   "id": "2e94e015",
   "metadata": {},
   "source": [
    "#### zeros() \n",
    "zero matrix\n",
    " \n",
    " zeros() inbuilt, zeros(shape, dtype=float,order='C', *, like=None)\n",
    " \n",
    " Return a new array of given shape and type, filled with zeros."
   ]
  },
  {
   "cell_type": "code",
   "execution_count": 72,
   "id": "27a8fd4d",
   "metadata": {},
   "outputs": [
    {
     "data": {
      "text/plain": [
       "array([0., 0., 0.])"
      ]
     },
     "execution_count": 72,
     "metadata": {},
     "output_type": "execute_result"
    }
   ],
   "source": [
    "# All 0s matrix\n",
    "np.zeros(3)               "
   ]
  },
  {
   "cell_type": "code",
   "execution_count": 73,
   "id": "5a5553ac",
   "metadata": {},
   "outputs": [
    {
     "data": {
      "text/plain": [
       "array([[0., 0., 0.],\n",
       "       [0., 0., 0.]])"
      ]
     },
     "execution_count": 73,
     "metadata": {},
     "output_type": "execute_result"
    }
   ],
   "source": [
    "np.zeros((2, 3))"
   ]
  },
  {
   "cell_type": "code",
   "execution_count": 74,
   "id": "08decba9",
   "metadata": {},
   "outputs": [
    {
     "data": {
      "text/plain": [
       "array([[[[0., 0.],\n",
       "         [0., 0.],\n",
       "         [0., 0.]],\n",
       "\n",
       "        [[0., 0.],\n",
       "         [0., 0.],\n",
       "         [0., 0.]],\n",
       "\n",
       "        [[0., 0.],\n",
       "         [0., 0.],\n",
       "         [0., 0.]]],\n",
       "\n",
       "\n",
       "       [[[0., 0.],\n",
       "         [0., 0.],\n",
       "         [0., 0.]],\n",
       "\n",
       "        [[0., 0.],\n",
       "         [0., 0.],\n",
       "         [0., 0.]],\n",
       "\n",
       "        [[0., 0.],\n",
       "         [0., 0.],\n",
       "         [0., 0.]]]])"
      ]
     },
     "execution_count": 74,
     "metadata": {},
     "output_type": "execute_result"
    }
   ],
   "source": [
    "np.zeros((2,3,3,2))              # 4 dimensional [[[[  ]]]]  and decial bcz of float value\n",
    "                    # (2,3,3,2) == (2 bloks of 3 dimensional, 3 bloks of 2 dimensional, 3 rows, 2 columns)"
   ]
  },
  {
   "cell_type": "code",
   "execution_count": 75,
   "id": "6f11bceb",
   "metadata": {},
   "outputs": [
    {
     "data": {
      "text/plain": [
       "array([[[[[0.]],\n",
       "\n",
       "         [[0.]],\n",
       "\n",
       "         [[0.]]],\n",
       "\n",
       "\n",
       "        [[[0.]],\n",
       "\n",
       "         [[0.]],\n",
       "\n",
       "         [[0.]]],\n",
       "\n",
       "\n",
       "        [[[0.]],\n",
       "\n",
       "         [[0.]],\n",
       "\n",
       "         [[0.]]]],\n",
       "\n",
       "\n",
       "\n",
       "       [[[[0.]],\n",
       "\n",
       "         [[0.]],\n",
       "\n",
       "         [[0.]]],\n",
       "\n",
       "\n",
       "        [[[0.]],\n",
       "\n",
       "         [[0.]],\n",
       "\n",
       "         [[0.]]],\n",
       "\n",
       "\n",
       "        [[[0.]],\n",
       "\n",
       "         [[0.]],\n",
       "\n",
       "         [[0.]]]]])"
      ]
     },
     "execution_count": 75,
     "metadata": {},
     "output_type": "execute_result"
    }
   ],
   "source": [
    "np.zeros((2, 3, 3, 1, 1))         # 5 dimensional  [[[[[ ]]]]]"
   ]
  },
  {
   "cell_type": "markdown",
   "id": "1889f2d3",
   "metadata": {},
   "source": [
    "#### ones()\n",
    "ones matrix\n",
    "\n",
    "np.ones(shape, dtype=None, order='C', *, like=None)\n",
    "\n",
    "Return a new array of given shape and type, filled with ones."
   ]
  },
  {
   "cell_type": "code",
   "execution_count": 76,
   "id": "cefb8a10",
   "metadata": {},
   "outputs": [
    {
     "data": {
      "text/plain": [
       "array([1., 1., 1.])"
      ]
     },
     "execution_count": 76,
     "metadata": {},
     "output_type": "execute_result"
    }
   ],
   "source": [
    "# All 1s matrix\n",
    "np.ones(3)"
   ]
  },
  {
   "cell_type": "code",
   "execution_count": 77,
   "id": "f51eb43d",
   "metadata": {},
   "outputs": [
    {
     "data": {
      "text/plain": [
       "array([[1., 1., 1.],\n",
       "       [1., 1., 1.]])"
      ]
     },
     "execution_count": 77,
     "metadata": {},
     "output_type": "execute_result"
    }
   ],
   "source": [
    "np.ones((2,3))"
   ]
  },
  {
   "cell_type": "code",
   "execution_count": 78,
   "id": "8399ad64",
   "metadata": {},
   "outputs": [
    {
     "data": {
      "text/plain": [
       "array([[1., 1.],\n",
       "       [1., 1.]])"
      ]
     },
     "execution_count": 78,
     "metadata": {},
     "output_type": "execute_result"
    }
   ],
   "source": [
    "np.ones((2,2))"
   ]
  },
  {
   "cell_type": "code",
   "execution_count": 79,
   "id": "11665395",
   "metadata": {},
   "outputs": [
    {
     "data": {
      "text/plain": [
       "array([[[1., 1.],\n",
       "        [1., 1.]],\n",
       "\n",
       "       [[1., 1.],\n",
       "        [1., 1.]],\n",
       "\n",
       "       [[1., 1.],\n",
       "        [1., 1.]]])"
      ]
     },
     "execution_count": 79,
     "metadata": {},
     "output_type": "execute_result"
    }
   ],
   "source": [
    "np.ones((3,2,2))"
   ]
  },
  {
   "cell_type": "code",
   "execution_count": 80,
   "id": "9358b7b3",
   "metadata": {},
   "outputs": [
    {
     "data": {
      "text/plain": [
       "array([[[1, 1],\n",
       "        [1, 1]],\n",
       "\n",
       "       [[1, 1],\n",
       "        [1, 1]],\n",
       "\n",
       "       [[1, 1],\n",
       "        [1, 1]],\n",
       "\n",
       "       [[1, 1],\n",
       "        [1, 1]]])"
      ]
     },
     "execution_count": 80,
     "metadata": {},
     "output_type": "execute_result"
    }
   ],
   "source": [
    "np.ones((4,2,2), dtype = 'int32')"
   ]
  },
  {
   "cell_type": "markdown",
   "id": "86a88058",
   "metadata": {},
   "source": [
    "#Any other number\n",
    "#### np.full()\n",
    "\n",
    "np.full(shape, fill_value, dtype=None, order='C', *, like=None)\n",
    "\n",
    "Return a new array of given shape and type, filled with `fill_value`."
   ]
  },
  {
   "cell_type": "code",
   "execution_count": 81,
   "id": "e319c8b5",
   "metadata": {
    "scrolled": true
   },
   "outputs": [
    {
     "data": {
      "text/plain": [
       "array([[111, 111],\n",
       "       [111, 111]])"
      ]
     },
     "execution_count": 81,
     "metadata": {},
     "output_type": "execute_result"
    }
   ],
   "source": [
    "np.full((2,2), 111)               # it takes the mention shape and fills the matrix with the given"
   ]
  },
  {
   "cell_type": "code",
   "execution_count": 82,
   "id": "76fd332a",
   "metadata": {},
   "outputs": [
    {
     "data": {
      "text/plain": [
       "array([[999., 999.],\n",
       "       [999., 999.]], dtype=float32)"
      ]
     },
     "execution_count": 82,
     "metadata": {},
     "output_type": "execute_result"
    }
   ],
   "source": [
    "np.full((2,2), 999, dtype = 'float32')"
   ]
  },
  {
   "cell_type": "code",
   "execution_count": 83,
   "id": "084adbc0",
   "metadata": {},
   "outputs": [
    {
     "data": {
      "text/plain": [
       "array([[1947, 1947, 1947, 1947, 1947, 1947, 1947],\n",
       "       [1947, 1947, 1947, 1947, 1947, 1947, 1947]])"
      ]
     },
     "execution_count": 83,
     "metadata": {},
     "output_type": "execute_result"
    }
   ],
   "source": [
    "np.full(a.shape, 1947)            # it take the size of a matrix which is already builted"
   ]
  },
  {
   "cell_type": "markdown",
   "id": "10609c96",
   "metadata": {},
   "source": [
    "#### np.full_like()\n",
    "\n",
    "np.full_like(a, fill_value, dtype=None, order='K', subok=True, shape=None)\n",
    "\n",
    "Return a full array with the same shape and type as a given array."
   ]
  },
  {
   "cell_type": "code",
   "execution_count": 84,
   "id": "e9657d91",
   "metadata": {},
   "outputs": [
    {
     "data": {
      "text/plain": [
       "array([[26, 26, 26, 26, 26, 26, 26],\n",
       "       [26, 26, 26, 26, 26, 26, 26]])"
      ]
     },
     "execution_count": 84,
     "metadata": {},
     "output_type": "execute_result"
    }
   ],
   "source": [
    "# Any other number (full_like)\n",
    "np.full_like(a, 26)                               # basically it allows us to take shape of already built\n",
    "                                                # it take the shape/ size of 'a' matrix fill the given value"
   ]
  },
  {
   "cell_type": "code",
   "execution_count": 85,
   "id": "52834655",
   "metadata": {},
   "outputs": [
    {
     "data": {
      "text/plain": [
       "array([[0.99217289, 0.43107714],\n",
       "       [0.67583357, 0.41969032]])"
      ]
     },
     "execution_count": 85,
     "metadata": {},
     "output_type": "execute_result"
    }
   ],
   "source": [
    "# Random decimal numbers\n",
    "np.random.rand(2,2)                  # random numbers between 0 and 1"
   ]
  },
  {
   "cell_type": "code",
   "execution_count": 86,
   "id": "f8356309",
   "metadata": {},
   "outputs": [
    {
     "data": {
      "text/plain": [
       "array([[[0.13133557, 0.23074856, 0.39994124, 0.80749385, 0.06814003],\n",
       "        [0.33290959, 0.0349216 , 0.54629641, 0.43815055, 0.19114316]],\n",
       "\n",
       "       [[0.17021881, 0.14408962, 0.50369241, 0.83903294, 0.2333733 ],\n",
       "        [0.86698845, 0.30834548, 0.36031594, 0.96472107, 0.04496396]],\n",
       "\n",
       "       [[0.41707404, 0.79682554, 0.6393681 , 0.41311768, 0.09836149],\n",
       "        [0.91321575, 0.50429735, 0.18630179, 0.29951648, 0.1944998 ]]])"
      ]
     },
     "execution_count": 86,
     "metadata": {},
     "output_type": "execute_result"
    }
   ],
   "source": [
    "np.random.rand(3,2,5)"
   ]
  },
  {
   "cell_type": "code",
   "execution_count": 87,
   "id": "3c16aff1",
   "metadata": {},
   "outputs": [
    {
     "data": {
      "text/plain": [
       "array([0.49380972, 0.64147639, 0.27702766, 0.50151379, 0.26579838])"
      ]
     },
     "execution_count": 87,
     "metadata": {},
     "output_type": "execute_result"
    }
   ],
   "source": [
    "np.random.rand(5)"
   ]
  },
  {
   "cell_type": "code",
   "execution_count": 88,
   "id": "b0f80a03",
   "metadata": {},
   "outputs": [],
   "source": [
    "# np.random.rand((5, 5)       # 'tuple' object cannot be interpreted as an integer\n",
    "# np.random.rand([5, 5])           #'list' object cannot be interpreted as an integer"
   ]
  },
  {
   "cell_type": "code",
   "execution_count": 89,
   "id": "f21902d9",
   "metadata": {},
   "outputs": [
    {
     "data": {
      "text/plain": [
       "array([[0.34721545, 0.57748934, 0.95189797, 0.20592233, 0.43032292,\n",
       "        0.04133242, 0.48437243],\n",
       "       [0.28812701, 0.34026472, 0.18656623, 0.47027915, 0.8983123 ,\n",
       "        0.28645252, 0.26815237]])"
      ]
     },
     "execution_count": 89,
     "metadata": {},
     "output_type": "execute_result"
    }
   ],
   "source": [
    "np.random.random_sample(a.shape)                         # it uses a matrix's shape and returns random numbers between 0 & 1 "
   ]
  },
  {
   "cell_type": "markdown",
   "id": "0e828654",
   "metadata": {},
   "source": [
    "#Random Integer Values\n",
    "#### np.random.randint()\n",
    "randint(low, high=None, size=None, dtype=int)\n",
    "\n",
    "Return random integers from `low` (inclusive) to `high` (exclusive)."
   ]
  },
  {
   "cell_type": "code",
   "execution_count": 90,
   "id": "77ce75df",
   "metadata": {},
   "outputs": [
    {
     "data": {
      "text/plain": [
       "array([[4, 6, 1],\n",
       "       [3, 2, 3],\n",
       "       [0, 2, 1]])"
      ]
     },
     "execution_count": 90,
     "metadata": {},
     "output_type": "execute_result"
    }
   ],
   "source": [
    "np.random.randint(7, size=(3,3))              # by default it take low is from 0, its optional low"
   ]
  },
  {
   "cell_type": "code",
   "execution_count": 91,
   "id": "0ca2ca53",
   "metadata": {},
   "outputs": [
    {
     "data": {
      "text/plain": [
       "array([[2, 3, 3],\n",
       "       [2, 6, 5],\n",
       "       [3, 5, 2]])"
      ]
     },
     "execution_count": 91,
     "metadata": {},
     "output_type": "execute_result"
    }
   ],
   "source": [
    "np.random.randint(2,7,size=(3,3))         # high is exclusive and low is inclusive\n",
    "                                        # every time when we run it shows different random numbers"
   ]
  },
  {
   "cell_type": "code",
   "execution_count": 92,
   "id": "ea70d837",
   "metadata": {},
   "outputs": [
    {
     "data": {
      "text/plain": [
       "array([[[ 2, -2,  8],\n",
       "        [-3,  8,  6],\n",
       "        [ 5,  1, -3]],\n",
       "\n",
       "       [[ 1,  5,  5],\n",
       "        [-2, -1,  7],\n",
       "        [ 1,  4, -4]],\n",
       "\n",
       "       [[ 3, -2,  1],\n",
       "        [ 5,  5,  2],\n",
       "        [-1,  4, -2]]])"
      ]
     },
     "execution_count": 92,
     "metadata": {},
     "output_type": "execute_result"
    }
   ],
   "source": [
    "np.random.randint(-4,9,size=(3,3,3))"
   ]
  },
  {
   "cell_type": "markdown",
   "id": "960f2dd1",
   "metadata": {},
   "source": [
    "#### Identity Matrix\n",
    "np.identity(n, dtype=None, *, like=None)\n",
    "\n",
    "Return the identity array."
   ]
  },
  {
   "cell_type": "code",
   "execution_count": 93,
   "id": "a7fef5f9",
   "metadata": {},
   "outputs": [
    {
     "data": {
      "text/plain": [
       "array([[1., 0., 0.],\n",
       "       [0., 1., 0.],\n",
       "       [0., 0., 1.]])"
      ]
     },
     "execution_count": 93,
     "metadata": {},
     "output_type": "execute_result"
    }
   ],
   "source": [
    "np.identity(3)      # it want one parameter, because Identity matrix is SQUARE matrix"
   ]
  },
  {
   "cell_type": "code",
   "execution_count": 94,
   "id": "ca98e29f",
   "metadata": {},
   "outputs": [
    {
     "data": {
      "text/plain": [
       "array([[1, 0, 0],\n",
       "       [0, 1, 0],\n",
       "       [0, 0, 1]])"
      ]
     },
     "execution_count": 94,
     "metadata": {},
     "output_type": "execute_result"
    }
   ],
   "source": [
    "np.identity(3, dtype='int32')"
   ]
  },
  {
   "cell_type": "markdown",
   "id": "cd4a3a5d",
   "metadata": {},
   "source": [
    "Reapeat an array\n",
    "#### repeat()\n",
    "np.repeat(a, repeats, axis=None)\n",
    "\n",
    "Repeat elements of an array."
   ]
  },
  {
   "cell_type": "code",
   "execution_count": 95,
   "id": "eb4d8f70",
   "metadata": {},
   "outputs": [
    {
     "name": "stdout",
     "output_type": "stream",
     "text": [
      "[1 1 1 2 2 2 3 3 3]\n"
     ]
    }
   ],
   "source": [
    "# repeat\n",
    "arr = np.array([1, 2, 3])\n",
    "r1 = np.repeat(arr,3,axis = 0)\n",
    "print(r1)                                   # 1d array with axis = 0, axis = 1 error"
   ]
  },
  {
   "cell_type": "code",
   "execution_count": 96,
   "id": "f00a1aa3",
   "metadata": {},
   "outputs": [
    {
     "name": "stdout",
     "output_type": "stream",
     "text": [
      "[[1 2 3]\n",
      " [1 2 3]\n",
      " [1 2 3]]\n"
     ]
    }
   ],
   "source": [
    "arr = np.array([[1, 2, 3]])\n",
    "r1 = np.repeat(arr,3,axis = 0)\n",
    "print(r1)                               # 2d array with axis = 0"
   ]
  },
  {
   "cell_type": "code",
   "execution_count": 97,
   "id": "ca1f3502",
   "metadata": {},
   "outputs": [
    {
     "name": "stdout",
     "output_type": "stream",
     "text": [
      "[[[1 2 3]]\n",
      "\n",
      " [[1 2 3]]\n",
      "\n",
      " [[1 2 3]]]\n"
     ]
    }
   ],
   "source": [
    "arr = np.array([[[1, 2, 3]]])\n",
    "r1 = np.repeat(arr,3,axis = 0)\n",
    "print(r1)                           # 3d array with axis = 0"
   ]
  },
  {
   "cell_type": "code",
   "execution_count": 98,
   "id": "67871583",
   "metadata": {},
   "outputs": [
    {
     "name": "stdout",
     "output_type": "stream",
     "text": [
      "[[1 1 1 2 2 2 3 3 3]]\n"
     ]
    }
   ],
   "source": [
    "arr = np.array([[1, 2, 3]])\n",
    "r1 = np.repeat(arr,3,axis = 1)\n",
    "print(r1)                               ## 2d array with  axis = 1"
   ]
  },
  {
   "cell_type": "code",
   "execution_count": 99,
   "id": "2b68241d",
   "metadata": {},
   "outputs": [
    {
     "name": "stdout",
     "output_type": "stream",
     "text": [
      "[[[1 2 3]\n",
      "  [1 2 3]\n",
      "  [1 2 3]]]\n"
     ]
    }
   ],
   "source": [
    "arr = np.array([[[1, 2, 3]]])\n",
    "r1 = np.repeat(arr,3,axis = 1)         # 3d array with  axis = 1 and axis = 3 error\n",
    "print(r1)"
   ]
  },
  {
   "cell_type": "code",
   "execution_count": 100,
   "id": "46cc523a",
   "metadata": {},
   "outputs": [
    {
     "name": "stdout",
     "output_type": "stream",
     "text": [
      "[[[1 1 1 2 2 2 3 3 3]]]\n"
     ]
    }
   ],
   "source": [
    "arr = np.array([[[1, 2, 3]]])\n",
    "r1 = np.repeat(arr,3,axis = 2)\n",
    "print(r1)                               ## 3d array with  axis = 2 and axis = 3 error"
   ]
  },
  {
   "cell_type": "raw",
   "id": "da68a207",
   "metadata": {},
   "source": [
    "# print like this from using above concept\n",
    "\n",
    " [[1 1 1 1 1]\n",
    "  [1 0 0 0 1]\n",
    "  [1 0 9 0 1]\n",
    "  [1 0 0 0 1]\n",
    "  [1 1 1 1 1]]\n"
   ]
  },
  {
   "cell_type": "code",
   "execution_count": 101,
   "id": "8ccf7f68",
   "metadata": {},
   "outputs": [
    {
     "name": "stdout",
     "output_type": "stream",
     "text": [
      "[[1 1 1 1 1]\n",
      " [1 1 1 1 1]\n",
      " [1 1 1 1 1]\n",
      " [1 1 1 1 1]\n",
      " [1 1 1 1 1]]\n"
     ]
    }
   ],
   "source": [
    "output=np.ones((5,5), dtype='int32')\n",
    "print(output)"
   ]
  },
  {
   "cell_type": "code",
   "execution_count": 102,
   "id": "c2dedf72",
   "metadata": {},
   "outputs": [
    {
     "name": "stdout",
     "output_type": "stream",
     "text": [
      "[[0 0 0]\n",
      " [0 0 0]\n",
      " [0 0 0]]\n"
     ]
    }
   ],
   "source": [
    "z = np.zeros((3, 3), dtype='int32')\n",
    "print(z)"
   ]
  },
  {
   "cell_type": "code",
   "execution_count": 103,
   "id": "20422dc0",
   "metadata": {},
   "outputs": [
    {
     "name": "stdout",
     "output_type": "stream",
     "text": [
      "[[0 0 0]\n",
      " [0 9 0]\n",
      " [0 0 0]]\n"
     ]
    }
   ],
   "source": [
    "z[1, 1] = 9\n",
    "print(z)                       #changing element in z"
   ]
  },
  {
   "cell_type": "code",
   "execution_count": 104,
   "id": "c381e379",
   "metadata": {},
   "outputs": [
    {
     "name": "stdout",
     "output_type": "stream",
     "text": [
      "[[1 1 1 1 1]\n",
      " [1 0 0 0 1]\n",
      " [1 0 9 0 1]\n",
      " [1 0 0 0 1]\n",
      " [1 1 1 1 1]]\n"
     ]
    }
   ],
   "source": [
    "output[1:4, 1:4]=z\n",
    "print(output)                 # changing elements in output by putting z matrix"
   ]
  },
  {
   "cell_type": "code",
   "execution_count": 105,
   "id": "94222171",
   "metadata": {},
   "outputs": [
    {
     "name": "stdout",
     "output_type": "stream",
     "text": [
      "[[1 1 1 1 1]\n",
      " [1 0 0 0 1]\n",
      " [1 0 9 0 1]\n",
      " [1 0 0 0 1]\n",
      " [1 1 1 1 1]]\n"
     ]
    }
   ],
   "source": [
    "output[1:-1, 1:-1]=z\n",
    "print(output)"
   ]
  },
  {
   "cell_type": "markdown",
   "id": "6d64dc43",
   "metadata": {},
   "source": [
    "### Copying arrays\n",
    "Be careful when copying arrays!!!"
   ]
  },
  {
   "cell_type": "code",
   "execution_count": 106,
   "id": "6160e422",
   "metadata": {},
   "outputs": [
    {
     "name": "stdout",
     "output_type": "stream",
     "text": [
      "[100   2   3]\n"
     ]
    }
   ],
   "source": [
    "a = np.array([1, 2 , 3])\n",
    "b = a\n",
    "b[0] = 100\n",
    "print(b)"
   ]
  },
  {
   "cell_type": "code",
   "execution_count": 107,
   "id": "97d4e892",
   "metadata": {},
   "outputs": [
    {
     "name": "stdout",
     "output_type": "stream",
     "text": [
      "[100   2   3]\n"
     ]
    }
   ],
   "source": [
    "print(a)            # b = a , that means it copies contents along with addres\n",
    "                    # if anything change, it will reflect in other also"
   ]
  },
  {
   "cell_type": "code",
   "execution_count": 108,
   "id": "eee51da1",
   "metadata": {},
   "outputs": [
    {
     "data": {
      "text/plain": [
       "2280920093104"
      ]
     },
     "execution_count": 108,
     "metadata": {},
     "output_type": "execute_result"
    }
   ],
   "source": [
    "id(a)"
   ]
  },
  {
   "cell_type": "code",
   "execution_count": 109,
   "id": "e39d81e1",
   "metadata": {},
   "outputs": [
    {
     "data": {
      "text/plain": [
       "2280920093104"
      ]
     },
     "execution_count": 109,
     "metadata": {},
     "output_type": "execute_result"
    }
   ],
   "source": [
    "id(b)"
   ]
  },
  {
   "cell_type": "code",
   "execution_count": 110,
   "id": "6986521e",
   "metadata": {},
   "outputs": [
    {
     "name": "stdout",
     "output_type": "stream",
     "text": [
      "[999   6   7]\n"
     ]
    }
   ],
   "source": [
    "c = np.array([5, 6, 7])\n",
    "d = c.copy()                                  # it only copy the contents not the address\n",
    "d[0] = 999                                    # if any changes made, not reflecting in other\n",
    "print(d)"
   ]
  },
  {
   "cell_type": "code",
   "execution_count": 111,
   "id": "7395c4e1",
   "metadata": {},
   "outputs": [
    {
     "data": {
      "text/plain": [
       "array([5, 6, 7])"
      ]
     },
     "execution_count": 111,
     "metadata": {},
     "output_type": "execute_result"
    }
   ],
   "source": [
    "c"
   ]
  },
  {
   "cell_type": "code",
   "execution_count": 112,
   "id": "819966e4",
   "metadata": {},
   "outputs": [
    {
     "data": {
      "text/plain": [
       "2280920011376"
      ]
     },
     "execution_count": 112,
     "metadata": {},
     "output_type": "execute_result"
    }
   ],
   "source": [
    "id(c)"
   ]
  },
  {
   "cell_type": "code",
   "execution_count": 113,
   "id": "08c459f2",
   "metadata": {},
   "outputs": [
    {
     "data": {
      "text/plain": [
       "2280898059888"
      ]
     },
     "execution_count": 113,
     "metadata": {},
     "output_type": "execute_result"
    }
   ],
   "source": [
    "id(d)"
   ]
  },
  {
   "cell_type": "markdown",
   "id": "c49093df",
   "metadata": {},
   "source": [
    "## Mathematics"
   ]
  },
  {
   "cell_type": "code",
   "execution_count": 114,
   "id": "90b6c7b6",
   "metadata": {},
   "outputs": [
    {
     "name": "stdout",
     "output_type": "stream",
     "text": [
      "[1 2 3 4]\n"
     ]
    }
   ],
   "source": [
    "a = np.array([1, 2, 3, 4])\n",
    "print(a)"
   ]
  },
  {
   "cell_type": "code",
   "execution_count": 115,
   "id": "7df2b3b1",
   "metadata": {},
   "outputs": [
    {
     "data": {
      "text/plain": [
       "array([3, 4, 5, 6])"
      ]
     },
     "execution_count": 115,
     "metadata": {},
     "output_type": "execute_result"
    }
   ],
   "source": [
    "a + 2 "
   ]
  },
  {
   "cell_type": "code",
   "execution_count": 116,
   "id": "113f1874",
   "metadata": {},
   "outputs": [
    {
     "data": {
      "text/plain": [
       "array([-1,  0,  1,  2])"
      ]
     },
     "execution_count": 116,
     "metadata": {},
     "output_type": "execute_result"
    }
   ],
   "source": [
    "a - 2"
   ]
  },
  {
   "cell_type": "code",
   "execution_count": 117,
   "id": "dc2886d9",
   "metadata": {},
   "outputs": [
    {
     "data": {
      "text/plain": [
       "array([2, 4, 6, 8])"
      ]
     },
     "execution_count": 117,
     "metadata": {},
     "output_type": "execute_result"
    }
   ],
   "source": [
    "a * 2"
   ]
  },
  {
   "cell_type": "code",
   "execution_count": 118,
   "id": "6869c712",
   "metadata": {},
   "outputs": [
    {
     "data": {
      "text/plain": [
       "array([0.5, 1. , 1.5, 2. ])"
      ]
     },
     "execution_count": 118,
     "metadata": {},
     "output_type": "execute_result"
    }
   ],
   "source": [
    "a / 2"
   ]
  },
  {
   "cell_type": "code",
   "execution_count": 119,
   "id": "85282fee",
   "metadata": {},
   "outputs": [
    {
     "data": {
      "text/plain": [
       "array([1, 0, 1, 0], dtype=int32)"
      ]
     },
     "execution_count": 119,
     "metadata": {},
     "output_type": "execute_result"
    }
   ],
   "source": [
    "a % 2"
   ]
  },
  {
   "cell_type": "code",
   "execution_count": 120,
   "id": "20c15ffe",
   "metadata": {},
   "outputs": [
    {
     "data": {
      "text/plain": [
       "array([3, 4, 5, 6])"
      ]
     },
     "execution_count": 120,
     "metadata": {},
     "output_type": "execute_result"
    }
   ],
   "source": [
    "a += 2\n",
    "a"
   ]
  },
  {
   "cell_type": "code",
   "execution_count": 121,
   "id": "3269d676",
   "metadata": {},
   "outputs": [
    {
     "name": "stdout",
     "output_type": "stream",
     "text": [
      "[1 2 3 4]\n"
     ]
    }
   ],
   "source": [
    "a = np.array([1, 2, 3, 4])\n",
    "print(a)"
   ]
  },
  {
   "cell_type": "code",
   "execution_count": 122,
   "id": "66533c69",
   "metadata": {},
   "outputs": [
    {
     "name": "stdout",
     "output_type": "stream",
     "text": [
      "[1 0 1 0]\n"
     ]
    }
   ],
   "source": [
    "b = np.array([1, 0, 1, 0])\n",
    "print(b)"
   ]
  },
  {
   "cell_type": "code",
   "execution_count": 123,
   "id": "7a1b560a",
   "metadata": {},
   "outputs": [
    {
     "data": {
      "text/plain": [
       "array([2, 2, 4, 4])"
      ]
     },
     "execution_count": 123,
     "metadata": {},
     "output_type": "execute_result"
    }
   ],
   "source": [
    "a + b"
   ]
  },
  {
   "cell_type": "code",
   "execution_count": 124,
   "id": "7620b9d8",
   "metadata": {},
   "outputs": [
    {
     "data": {
      "text/plain": [
       "array([0, 2, 2, 4])"
      ]
     },
     "execution_count": 124,
     "metadata": {},
     "output_type": "execute_result"
    }
   ],
   "source": [
    "a - b"
   ]
  },
  {
   "cell_type": "code",
   "execution_count": 125,
   "id": "ee46a3f7",
   "metadata": {},
   "outputs": [
    {
     "data": {
      "text/plain": [
       "array([1, 0, 3, 0])"
      ]
     },
     "execution_count": 125,
     "metadata": {},
     "output_type": "execute_result"
    }
   ],
   "source": [
    "a * b"
   ]
  },
  {
   "cell_type": "code",
   "execution_count": 126,
   "id": "a9c98f6f",
   "metadata": {},
   "outputs": [
    {
     "name": "stderr",
     "output_type": "stream",
     "text": [
      "C:\\Users\\Chetan\\AppData\\Local\\Temp\\ipykernel_1208\\1286629031.py:1: RuntimeWarning: divide by zero encountered in divide\n",
      "  a / b\n"
     ]
    },
    {
     "data": {
      "text/plain": [
       "array([ 1., inf,  3., inf])"
      ]
     },
     "execution_count": 126,
     "metadata": {},
     "output_type": "execute_result"
    }
   ],
   "source": [
    "a / b"
   ]
  },
  {
   "cell_type": "code",
   "execution_count": 127,
   "id": "d9b70e9f",
   "metadata": {},
   "outputs": [
    {
     "data": {
      "text/plain": [
       "array([ 1,  4,  9, 16])"
      ]
     },
     "execution_count": 127,
     "metadata": {},
     "output_type": "execute_result"
    }
   ],
   "source": [
    "a ** 2"
   ]
  },
  {
   "cell_type": "code",
   "execution_count": 128,
   "id": "54d49814",
   "metadata": {},
   "outputs": [
    {
     "data": {
      "text/plain": [
       "array([ 1,  8, 27, 64], dtype=int32)"
      ]
     },
     "execution_count": 128,
     "metadata": {},
     "output_type": "execute_result"
    }
   ],
   "source": [
    "a ** 3"
   ]
  },
  {
   "cell_type": "code",
   "execution_count": 129,
   "id": "c6de1201",
   "metadata": {},
   "outputs": [],
   "source": [
    "# a ^ 2"
   ]
  },
  {
   "cell_type": "code",
   "execution_count": 130,
   "id": "bfe2b4c9",
   "metadata": {},
   "outputs": [
    {
     "data": {
      "text/plain": [
       "array([ 0.84147098,  0.90929743,  0.14112001, -0.7568025 ])"
      ]
     },
     "execution_count": 130,
     "metadata": {},
     "output_type": "execute_result"
    }
   ],
   "source": [
    "# Take the sin\n",
    "np.sin(a)  "
   ]
  },
  {
   "cell_type": "code",
   "execution_count": 131,
   "id": "08c37456",
   "metadata": {},
   "outputs": [
    {
     "data": {
      "text/plain": [
       "array([ 0.54030231, -0.41614684, -0.9899925 , -0.65364362])"
      ]
     },
     "execution_count": 131,
     "metadata": {},
     "output_type": "execute_result"
    }
   ],
   "source": [
    "# Take the cosin\n",
    "np.cos(a)"
   ]
  },
  {
   "cell_type": "code",
   "execution_count": 132,
   "id": "23650e0a",
   "metadata": {},
   "outputs": [
    {
     "data": {
      "text/plain": [
       "array([ 1.55740772, -2.18503986, -0.14254654,  1.15782128])"
      ]
     },
     "execution_count": 132,
     "metadata": {},
     "output_type": "execute_result"
    }
   ],
   "source": [
    "# Take the tan\n",
    "np.tan(a)"
   ]
  },
  {
   "cell_type": "code",
   "execution_count": 133,
   "id": "f9309c2d",
   "metadata": {},
   "outputs": [],
   "source": [
    "# For a lot more (https://docs.scipy.org/doc/numpy/reference/routines.math.html)"
   ]
  },
  {
   "cell_type": "markdown",
   "id": "d31be6bd",
   "metadata": {},
   "source": [
    "### Linear Algebra"
   ]
  },
  {
   "cell_type": "code",
   "execution_count": 134,
   "id": "3f611c87",
   "metadata": {},
   "outputs": [
    {
     "name": "stdout",
     "output_type": "stream",
     "text": [
      "[[1. 1. 1.]\n",
      " [1. 1. 1.]]\n",
      "[[2 2]\n",
      " [2 2]\n",
      " [2 2]]\n"
     ]
    }
   ],
   "source": [
    "a = np.ones((2, 3))\n",
    "print(a)\n",
    "\n",
    "b = np.full((3, 2), 2)\n",
    "print(b)"
   ]
  },
  {
   "cell_type": "code",
   "execution_count": 135,
   "id": "f0c89bfe",
   "metadata": {},
   "outputs": [],
   "source": [
    "# a * b    # Error while doing multiplication, operands could not be broadcast together with shapes (2,3) (3,2) \n"
   ]
  },
  {
   "cell_type": "markdown",
   "id": "11202767",
   "metadata": {},
   "source": [
    "#### Matrix multiplication \n",
    "                        => (m * n)(n * p)=(m*p)\n",
    "                            if n = n then only it is possible to do matrix multiplication\n",
    "    Ex : (3, 2)(2, 4) => (3, 4)\n",
    "The Column of 1 st matrix is Must equals to the Row of 2nd matrix"
   ]
  },
  {
   "cell_type": "code",
   "execution_count": 136,
   "id": "e4843f39",
   "metadata": {},
   "outputs": [
    {
     "data": {
      "text/plain": [
       "array([[6., 6.],\n",
       "       [6., 6.]])"
      ]
     },
     "execution_count": 136,
     "metadata": {},
     "output_type": "execute_result"
    }
   ],
   "source": [
    "np.matmul(a, b)             "
   ]
  },
  {
   "cell_type": "code",
   "execution_count": 137,
   "id": "0044d458",
   "metadata": {},
   "outputs": [
    {
     "data": {
      "text/plain": [
       "1.0"
      ]
     },
     "execution_count": 137,
     "metadata": {},
     "output_type": "execute_result"
    }
   ],
   "source": [
    "# Find the Determinant\n",
    "c = np.identity(5)\n",
    "np.linalg.det(c)               # identity matrix always have determinant is 1"
   ]
  },
  {
   "cell_type": "code",
   "execution_count": 138,
   "id": "08ba8928",
   "metadata": {},
   "outputs": [],
   "source": [
    "## Reference docs (https://docs.scipy.org/doc/numpy/reference/routines.linalg.html)\n",
    "\n",
    "# Determinant\n",
    "# Trace\n",
    "# Singular Vector Decomposition\n",
    "# Eiganvalues\n",
    "# Matrix Norm\n",
    "# Inverse\n",
    "# Etc..."
   ]
  },
  {
   "cell_type": "markdown",
   "id": "488d233b",
   "metadata": {},
   "source": [
    "### Statistics"
   ]
  },
  {
   "cell_type": "code",
   "execution_count": 139,
   "id": "b0659f30",
   "metadata": {},
   "outputs": [
    {
     "name": "stdout",
     "output_type": "stream",
     "text": [
      "[[1 2 3]\n",
      " [4 5 6]]\n"
     ]
    }
   ],
   "source": [
    "stats =np.array([[1, 2, 3],[4, 5, 6]])\n",
    "print(stats)"
   ]
  },
  {
   "cell_type": "code",
   "execution_count": 140,
   "id": "07543722",
   "metadata": {},
   "outputs": [
    {
     "data": {
      "text/plain": [
       "1"
      ]
     },
     "execution_count": 140,
     "metadata": {},
     "output_type": "execute_result"
    }
   ],
   "source": [
    "np.min(stats)"
   ]
  },
  {
   "cell_type": "code",
   "execution_count": 141,
   "id": "ab960b1f",
   "metadata": {},
   "outputs": [
    {
     "data": {
      "text/plain": [
       "6"
      ]
     },
     "execution_count": 141,
     "metadata": {},
     "output_type": "execute_result"
    }
   ],
   "source": [
    "np.max(stats)"
   ]
  },
  {
   "cell_type": "code",
   "execution_count": 142,
   "id": "a0745ca7",
   "metadata": {},
   "outputs": [
    {
     "data": {
      "text/plain": [
       "array([1, 2, 3])"
      ]
     },
     "execution_count": 142,
     "metadata": {},
     "output_type": "execute_result"
    }
   ],
   "source": [
    "np.min(stats, axis=0)          # # axis = 0 means row wise(horizontally)"
   ]
  },
  {
   "cell_type": "code",
   "execution_count": 143,
   "id": "35301f1e",
   "metadata": {},
   "outputs": [
    {
     "data": {
      "text/plain": [
       "array([1, 4])"
      ]
     },
     "execution_count": 143,
     "metadata": {},
     "output_type": "execute_result"
    }
   ],
   "source": [
    "np.min(stats, axis=1)            # axis = 1 means column wise(vertically)"
   ]
  },
  {
   "cell_type": "code",
   "execution_count": 144,
   "id": "9037ed15",
   "metadata": {},
   "outputs": [
    {
     "data": {
      "text/plain": [
       "array([4, 5, 6])"
      ]
     },
     "execution_count": 144,
     "metadata": {},
     "output_type": "execute_result"
    }
   ],
   "source": [
    "np.max(stats, axis=0)"
   ]
  },
  {
   "cell_type": "code",
   "execution_count": 145,
   "id": "47961143",
   "metadata": {},
   "outputs": [
    {
     "data": {
      "text/plain": [
       "array([3, 6])"
      ]
     },
     "execution_count": 145,
     "metadata": {},
     "output_type": "execute_result"
    }
   ],
   "source": [
    "np.max(stats, axis=1)"
   ]
  },
  {
   "cell_type": "code",
   "execution_count": 146,
   "id": "823a8ee9",
   "metadata": {},
   "outputs": [
    {
     "data": {
      "text/plain": [
       "21"
      ]
     },
     "execution_count": 146,
     "metadata": {},
     "output_type": "execute_result"
    }
   ],
   "source": [
    "np.sum(stats)"
   ]
  },
  {
   "cell_type": "code",
   "execution_count": 147,
   "id": "406a6266",
   "metadata": {},
   "outputs": [
    {
     "data": {
      "text/plain": [
       "array([5, 7, 9])"
      ]
     },
     "execution_count": 147,
     "metadata": {},
     "output_type": "execute_result"
    }
   ],
   "source": [
    "np.sum(stats, axis=0)     # sum of all elements in column"
   ]
  },
  {
   "cell_type": "code",
   "execution_count": 148,
   "id": "d5cbb9a9",
   "metadata": {},
   "outputs": [
    {
     "data": {
      "text/plain": [
       "array([ 6, 15])"
      ]
     },
     "execution_count": 148,
     "metadata": {},
     "output_type": "execute_result"
    }
   ],
   "source": [
    "np.sum(stats, axis=1)      # sum of all elements in row"
   ]
  },
  {
   "cell_type": "markdown",
   "id": "d648c605",
   "metadata": {},
   "source": [
    "### Reorganizing Arrays"
   ]
  },
  {
   "cell_type": "markdown",
   "id": "563d26d7",
   "metadata": {},
   "source": [
    "#### reshape()\n",
    "            Gives a new shape to an array without changing its data.\n"
   ]
  },
  {
   "cell_type": "code",
   "execution_count": 149,
   "id": "ddac0533",
   "metadata": {},
   "outputs": [
    {
     "name": "stdout",
     "output_type": "stream",
     "text": [
      "[[1 2 3 4]\n",
      " [5 6 7 8]]\n",
      "[[1 2]\n",
      " [3 4]\n",
      " [5 6]\n",
      " [7 8]]\n"
     ]
    }
   ],
   "source": [
    "before = np.array([[1, 2, 3, 4],[5, 6, 7, 8]])\n",
    "print(before)\n",
    "\n",
    "after = before.reshape((4,2))\n",
    "print(after)"
   ]
  },
  {
   "cell_type": "code",
   "execution_count": 150,
   "id": "a4e1d2a9",
   "metadata": {},
   "outputs": [
    {
     "name": "stdout",
     "output_type": "stream",
     "text": [
      "[[1 2 3 4 5 6 7 8]]\n"
     ]
    }
   ],
   "source": [
    "after = before.reshape((1,8))\n",
    "print(after)"
   ]
  },
  {
   "cell_type": "code",
   "execution_count": 151,
   "id": "2e078738",
   "metadata": {},
   "outputs": [
    {
     "name": "stdout",
     "output_type": "stream",
     "text": [
      "[[1]\n",
      " [2]\n",
      " [3]\n",
      " [4]\n",
      " [5]\n",
      " [6]\n",
      " [7]\n",
      " [8]]\n"
     ]
    }
   ],
   "source": [
    "after = before.reshape((8,1))\n",
    "print(after)"
   ]
  },
  {
   "cell_type": "code",
   "execution_count": 152,
   "id": "13d0350e",
   "metadata": {},
   "outputs": [
    {
     "name": "stdout",
     "output_type": "stream",
     "text": [
      "[[1 2 3 4 5 6 7 8]]\n"
     ]
    }
   ],
   "source": [
    "after = before.reshape((1,8))\n",
    "print(after)"
   ]
  },
  {
   "cell_type": "code",
   "execution_count": 153,
   "id": "67d1c0db",
   "metadata": {},
   "outputs": [
    {
     "name": "stdout",
     "output_type": "stream",
     "text": [
      "[[[1 2]\n",
      "  [3 4]]\n",
      "\n",
      " [[5 6]\n",
      "  [7 8]]]\n"
     ]
    }
   ],
   "source": [
    "after = before.reshape((2,2,2))\n",
    "print(after)"
   ]
  },
  {
   "cell_type": "code",
   "execution_count": 154,
   "id": "525ec930",
   "metadata": {},
   "outputs": [],
   "source": [
    "# after = before.reshape((2,3))\n",
    "# print(after)                                # error, due to mismatch"
   ]
  },
  {
   "cell_type": "code",
   "execution_count": 155,
   "id": "61074372",
   "metadata": {},
   "outputs": [],
   "source": [
    "# after = before.reshape((1,0,8))\n",
    "# print(after)\n",
    "#                                # error, due to mismatch"
   ]
  },
  {
   "cell_type": "markdown",
   "id": "fc880b70",
   "metadata": {},
   "source": [
    "###### Vertically Stacking vectors"
   ]
  },
  {
   "cell_type": "code",
   "execution_count": 156,
   "id": "5e83db5b",
   "metadata": {},
   "outputs": [
    {
     "data": {
      "text/plain": [
       "array([[1, 2, 3, 4],\n",
       "       [5, 6, 7, 8]])"
      ]
     },
     "execution_count": 156,
     "metadata": {},
     "output_type": "execute_result"
    }
   ],
   "source": [
    "v1 = np.array([1,2,3,4])\n",
    "v2 = np.array([5,6,7,8])              # there are two different matrix v1 and v2\n",
    "                                    # we want stack [1,2,3,4] on [5,6,7,8]\n",
    "np.vstack([v1, v2])                  # now it becomes one matrix"
   ]
  },
  {
   "cell_type": "code",
   "execution_count": 157,
   "id": "26e5603e",
   "metadata": {},
   "outputs": [
    {
     "data": {
      "text/plain": [
       "array([[1, 2, 3, 4],\n",
       "       [5, 6, 7, 8],\n",
       "       [5, 6, 7, 8],\n",
       "       [5, 6, 7, 8],\n",
       "       [1, 2, 3, 4]])"
      ]
     },
     "execution_count": 157,
     "metadata": {},
     "output_type": "execute_result"
    }
   ],
   "source": [
    "np.vstack([v1, v2, v2, v2,v1])            # now it becomes one matrix, values are stacked one over the other                "
   ]
  },
  {
   "cell_type": "code",
   "execution_count": 158,
   "id": "7c956c51",
   "metadata": {},
   "outputs": [],
   "source": [
    "# v1 = np.array([1,2,3,4])\n",
    "# v2 = np.array([5,6,7,8,9])\n",
    "# np.vstack([v1, v2])                     # error due to values mismatch"
   ]
  },
  {
   "cell_type": "markdown",
   "id": "0bd2a974",
   "metadata": {},
   "source": [
    "###### Horizontally Stacking Vectors"
   ]
  },
  {
   "cell_type": "code",
   "execution_count": 159,
   "id": "b6e6f4a1",
   "metadata": {},
   "outputs": [
    {
     "name": "stdout",
     "output_type": "stream",
     "text": [
      "[[1. 1. 1. 1.]\n",
      " [1. 1. 1. 1.]]\n",
      "[[0. 0.]\n",
      " [0. 0.]]\n"
     ]
    }
   ],
   "source": [
    "h1 = np.ones((2,4))\n",
    "h2 = np.zeros((2,2))\n",
    "print(h1)\n",
    "print(h2)"
   ]
  },
  {
   "cell_type": "code",
   "execution_count": 160,
   "id": "6b08293a",
   "metadata": {},
   "outputs": [
    {
     "data": {
      "text/plain": [
       "array([[1., 1., 1., 1., 0., 0.],\n",
       "       [1., 1., 1., 1., 0., 0.]])"
      ]
     },
     "execution_count": 160,
     "metadata": {},
     "output_type": "execute_result"
    }
   ],
   "source": [
    "np.hstack([h1,h2])        # we want h2 on back of h1"
   ]
  },
  {
   "cell_type": "code",
   "execution_count": 161,
   "id": "f77592c9",
   "metadata": {},
   "outputs": [
    {
     "data": {
      "text/plain": [
       "array([[1., 1., 1., 1., 0., 0.],\n",
       "       [1., 1., 1., 1., 0., 0.]])"
      ]
     },
     "execution_count": 161,
     "metadata": {},
     "output_type": "execute_result"
    }
   ],
   "source": [
    "np.hstack((h1,h2))"
   ]
  },
  {
   "cell_type": "markdown",
   "id": "856a6454",
   "metadata": {},
   "source": [
    "## Miscellaneous"
   ]
  },
  {
   "cell_type": "markdown",
   "id": "1ad5a6a3",
   "metadata": {},
   "source": [
    "### Load data from File"
   ]
  },
  {
   "cell_type": "code",
   "execution_count": 162,
   "id": "5005f6c3",
   "metadata": {},
   "outputs": [],
   "source": [
    "# we have txt file, which contains some data, we dont want laod that file using pands\n",
    "# we we want load file using Numpy into numpy array"
   ]
  },
  {
   "cell_type": "code",
   "execution_count": 163,
   "id": "b5b3590c",
   "metadata": {
    "scrolled": true
   },
   "outputs": [
    {
     "data": {
      "text/plain": [
       "array([[  1.,  13.,  21.,  11., 196.,  75.,   4.,   3.,  34.,   6.,   7.,\n",
       "          8.,   0.,   1.,   2.,   3.,   4.,   5.],\n",
       "       [  3.,  42.,  12.,  33., 766.,  75.,   4.,  55.,   6.,   4.,   3.,\n",
       "          4.,   5.,   6.,   7.,   0.,  11.,  12.],\n",
       "       [  1.,  22.,  33.,  11., 999.,  11.,   2.,   1.,  78.,   0.,   1.,\n",
       "          2.,   9.,   8.,   7.,   1.,  76.,  88.]])"
      ]
     },
     "execution_count": 163,
     "metadata": {},
     "output_type": "execute_result"
    }
   ],
   "source": [
    "filedata = np.genfromtxt('C:/Users/Chetan/Desktop/DA/Python/Numpy/data.txt',delimiter=',')\n",
    "filedata\n",
    "                                                    # we have to chage the delimiter, based on how our data splited\n",
    "                                                    # we have to use data which consists of equal number of columns in each row, other wise it shows error in Txt file"
   ]
  },
  {
   "cell_type": "code",
   "execution_count": 164,
   "id": "edfaadda",
   "metadata": {},
   "outputs": [
    {
     "data": {
      "text/plain": [
       "dtype('float64')"
      ]
     },
     "execution_count": 164,
     "metadata": {},
     "output_type": "execute_result"
    }
   ],
   "source": [
    "filedata.dtype"
   ]
  },
  {
   "cell_type": "code",
   "execution_count": 165,
   "id": "50f8a88e",
   "metadata": {},
   "outputs": [
    {
     "data": {
      "text/plain": [
       "array([[  1,  13,  21,  11, 196,  75,   4,   3,  34,   6,   7,   8,   0,\n",
       "          1,   2,   3,   4,   5],\n",
       "       [  3,  42,  12,  33, 766,  75,   4,  55,   6,   4,   3,   4,   5,\n",
       "          6,   7,   0,  11,  12],\n",
       "       [  1,  22,  33,  11, 999,  11,   2,   1,  78,   0,   1,   2,   9,\n",
       "          8,   7,   1,  76,  88]])"
      ]
     },
     "execution_count": 165,
     "metadata": {},
     "output_type": "execute_result"
    }
   ],
   "source": [
    "filedata = filedata.astype('int32')                       # astype('whatever format we want') is function that copies the data whatever format we want\n",
    "filedata"
   ]
  },
  {
   "cell_type": "code",
   "execution_count": 166,
   "id": "e7ad69f4",
   "metadata": {},
   "outputs": [
    {
     "data": {
      "text/plain": [
       "dtype('int32')"
      ]
     },
     "execution_count": 166,
     "metadata": {},
     "output_type": "execute_result"
    }
   ],
   "source": [
    "filedata.dtype"
   ]
  },
  {
   "cell_type": "markdown",
   "id": "4154dbee",
   "metadata": {},
   "source": [
    "#### Boolean Masking and Advanced Indexing"
   ]
  },
  {
   "cell_type": "code",
   "execution_count": 167,
   "id": "95716529",
   "metadata": {},
   "outputs": [
    {
     "data": {
      "text/plain": [
       "array([[False, False, False, False,  True,  True, False, False, False,\n",
       "        False, False, False, False, False, False, False, False, False],\n",
       "       [False, False, False, False,  True,  True, False,  True, False,\n",
       "        False, False, False, False, False, False, False, False, False],\n",
       "       [False, False, False, False,  True, False, False, False,  True,\n",
       "        False, False, False, False, False, False, False,  True,  True]])"
      ]
     },
     "execution_count": 167,
     "metadata": {},
     "output_type": "execute_result"
    }
   ],
   "source": [
    "filedata > 50            # returns True if value > 50, else returns False"
   ]
  },
  {
   "cell_type": "code",
   "execution_count": 168,
   "id": "51fd29d7",
   "metadata": {},
   "outputs": [
    {
     "data": {
      "text/plain": [
       "array([196,  75, 766,  75,  55, 999,  78,  76,  88])"
      ]
     },
     "execution_count": 168,
     "metadata": {},
     "output_type": "execute_result"
    }
   ],
   "source": [
    "filedata[filedata > 50]         # filedata[where filedata values >50] which have values more than 50"
   ]
  },
  {
   "cell_type": "code",
   "execution_count": 169,
   "id": "a67a6551",
   "metadata": {},
   "outputs": [
    {
     "data": {
      "text/plain": [
       "array([2, 4, 6, 8])"
      ]
     },
     "execution_count": 169,
     "metadata": {},
     "output_type": "execute_result"
    }
   ],
   "source": [
    "# we can Index with a List in Numpy\n",
    "z = np.array([1,2,3,4,5,6,7,8,9])\n",
    "# we want element 2,4,6,8 from above\n",
    "\n",
    "z[[1,3,5,7]]\n",
    "                  # from above we can accesed the values through Index by passing 'index as list'"
   ]
  },
  {
   "cell_type": "code",
   "execution_count": 170,
   "id": "bc554cc1",
   "metadata": {},
   "outputs": [
    {
     "name": "stdout",
     "output_type": "stream",
     "text": [
      "[[  1  13  21  11 196  75   4   3  34   6   7   8   0   1   2   3   4   5]\n",
      " [  3  42  12  33 766  75   4  55   6   4   3   4   5   6   7   0  11  12]\n",
      " [  1  22  33  11 999  11   2   1  78   0   1   2   9   8   7   1  76  88]]\n"
     ]
    }
   ],
   "source": [
    "print(filedata)"
   ]
  },
  {
   "cell_type": "code",
   "execution_count": 171,
   "id": "3a131518",
   "metadata": {},
   "outputs": [
    {
     "data": {
      "text/plain": [
       "array([False, False, False, False,  True,  True, False,  True,  True,\n",
       "       False, False, False, False, False, False, False,  True,  True])"
      ]
     },
     "execution_count": 171,
     "metadata": {},
     "output_type": "execute_result"
    }
   ],
   "source": [
    "# looking any value in filedata > 50\n",
    "np.any(filedata > 50, axis = 0)           # axis = 0, chekd downside wise from above and returns True if any value in column is > 50\n",
    "                                        # if any one value from that column satisfy condition it returns True"
   ]
  },
  {
   "cell_type": "code",
   "execution_count": 172,
   "id": "148c53df",
   "metadata": {},
   "outputs": [
    {
     "data": {
      "text/plain": [
       "array([False, False, False, False,  True, False, False, False, False,\n",
       "       False, False, False, False, False, False, False, False, False])"
      ]
     },
     "execution_count": 172,
     "metadata": {},
     "output_type": "execute_result"
    }
   ],
   "source": [
    "np.all(filedata > 50, axis = 0)      # checks each column wise if all values satisfy condition then only it returns True for that column"
   ]
  },
  {
   "cell_type": "code",
   "execution_count": 173,
   "id": "f2c5ecdf",
   "metadata": {},
   "outputs": [
    {
     "data": {
      "text/plain": [
       "array([ True,  True,  True])"
      ]
     },
     "execution_count": 173,
     "metadata": {},
     "output_type": "execute_result"
    }
   ],
   "source": [
    "np.any(filedata > 50, axis = 1)      # checks row wise"
   ]
  },
  {
   "cell_type": "code",
   "execution_count": 174,
   "id": "8a02b315",
   "metadata": {},
   "outputs": [
    {
     "data": {
      "text/plain": [
       "array([False, False, False])"
      ]
     },
     "execution_count": 174,
     "metadata": {},
     "output_type": "execute_result"
    }
   ],
   "source": [
    "np.all(filedata > 50, axis = 1)"
   ]
  },
  {
   "cell_type": "code",
   "execution_count": 175,
   "id": "74f8ff23",
   "metadata": {},
   "outputs": [
    {
     "data": {
      "text/plain": [
       "array([[False, False, False, False, False,  True, False, False, False,\n",
       "        False, False, False, False, False, False, False, False, False],\n",
       "       [False, False, False, False, False,  True, False,  True, False,\n",
       "        False, False, False, False, False, False, False, False, False],\n",
       "       [False, False, False, False, False, False, False, False,  True,\n",
       "        False, False, False, False, False, False, False,  True,  True]])"
      ]
     },
     "execution_count": 175,
     "metadata": {},
     "output_type": "execute_result"
    }
   ],
   "source": [
    "((filedata > 50) & (filedata < 100))"
   ]
  },
  {
   "cell_type": "code",
   "execution_count": 176,
   "id": "eb9e01d0",
   "metadata": {},
   "outputs": [
    {
     "data": {
      "text/plain": [
       "array([[ True,  True,  True,  True,  True, False,  True,  True,  True,\n",
       "         True,  True,  True,  True,  True,  True,  True,  True,  True],\n",
       "       [ True,  True,  True,  True,  True, False,  True, False,  True,\n",
       "         True,  True,  True,  True,  True,  True,  True,  True,  True],\n",
       "       [ True,  True,  True,  True,  True,  True,  True,  True, False,\n",
       "         True,  True,  True,  True,  True,  True,  True, False, False]])"
      ]
     },
     "execution_count": 176,
     "metadata": {},
     "output_type": "execute_result"
    }
   ],
   "source": [
    "~((filedata > 50) & (filedata < 100))       # negotion or compliment"
   ]
  },
  {
   "cell_type": "code",
   "execution_count": null,
   "id": "64243cf4",
   "metadata": {},
   "outputs": [],
   "source": []
  },
  {
   "cell_type": "markdown",
   "id": "ff0fc6c3",
   "metadata": {},
   "source": [
    "### Finding the index?"
   ]
  },
  {
   "cell_type": "markdown",
   "id": "f939f97f",
   "metadata": {},
   "source": [
    "### 1"
   ]
  },
  {
   "cell_type": "markdown",
   "id": "6938cc51",
   "metadata": {},
   "source": [
    "<!-- ![Image Caption](C:/Users/Chetan/Desktop/DA image.jpg) -->"
   ]
  },
  {
   "attachments": {
    "1.jpg": {
     "image/jpeg": "[encoded data removed]"
    }
   },
   "cell_type": "markdown",
   "id": "1db4615b",
   "metadata": {},
   "source": [
    "![1.jpg](attachment:1.jpg)\n",
    "\n",
    "### Find the index?"
   ]
  },
  {
   "cell_type": "code",
   "execution_count": 177,
   "id": "e6f15e48",
   "metadata": {},
   "outputs": [
    {
     "name": "stdout",
     "output_type": "stream",
     "text": [
      "[[ 1  2  3  4  5]\n",
      " [ 6  7  8  9 10]\n",
      " [11 12 13 14 15]\n",
      " [16 17 18 19 20]\n",
      " [21 22 23 24 25]\n",
      " [26 27 28 29 30]]\n"
     ]
    }
   ],
   "source": [
    "x = np.array([[1, 2, 3, 4, 5],\n",
    "             [6, 7, 8, 9, 10],\n",
    "             [11, 12, 13, 14, 15],\n",
    "             [16, 17, 18, 19, 20],\n",
    "             [21, 22, 23, 24, 25],\n",
    "             [26, 27, 28, 29, 30]])\n",
    "print(x)"
   ]
  },
  {
   "cell_type": "code",
   "execution_count": 178,
   "id": "628d2940",
   "metadata": {},
   "outputs": [
    {
     "data": {
      "text/plain": [
       "array([[11, 12],\n",
       "       [16, 17]])"
      ]
     },
     "execution_count": 178,
     "metadata": {},
     "output_type": "execute_result"
    }
   ],
   "source": [
    "x[2:4, 0:2]"
   ]
  },
  {
   "cell_type": "markdown",
   "id": "f1f1fe21",
   "metadata": {},
   "source": [
    "### 2"
   ]
  },
  {
   "attachments": {
    "2-2.jpg": {
     "image/jpeg": "[encoded data removed]"
    }
   },
   "cell_type": "markdown",
   "id": "bd64f476",
   "metadata": {},
   "source": [
    "![2-2.jpg](attachment:2-2.jpg)\n",
    "#### Find the index?\n",
    "(in green colour box)"
   ]
  },
  {
   "cell_type": "code",
   "execution_count": 179,
   "id": "5340f771",
   "metadata": {},
   "outputs": [
    {
     "name": "stdout",
     "output_type": "stream",
     "text": [
      "[[ 1  2  3  4  5]\n",
      " [ 6  7  8  9 10]\n",
      " [11 12 13 14 15]\n",
      " [16 17 18 19 20]\n",
      " [21 22 23 24 25]\n",
      " [26 27 28 29 30]]\n"
     ]
    }
   ],
   "source": [
    "print(x)"
   ]
  },
  {
   "cell_type": "code",
   "execution_count": 180,
   "id": "851d5847",
   "metadata": {},
   "outputs": [
    {
     "data": {
      "text/plain": [
       "array([ 2,  8, 14, 20])"
      ]
     },
     "execution_count": 180,
     "metadata": {},
     "output_type": "execute_result"
    }
   ],
   "source": [
    "x[[0,1,2,3], [1,2,3,4]]"
   ]
  },
  {
   "cell_type": "markdown",
   "id": "9f703969",
   "metadata": {},
   "source": [
    "### 3"
   ]
  },
  {
   "attachments": {
    "3.jpg": {
     "image/jpeg": "[encoded data removed]"
    }
   },
   "cell_type": "markdown",
   "id": "b200b015",
   "metadata": {},
   "source": [
    "![3.jpg](attachment:3.jpg)\n",
    "\n",
    "#### Find the index for elements in redbox"
   ]
  },
  {
   "cell_type": "code",
   "execution_count": 181,
   "id": "446a0ffc",
   "metadata": {},
   "outputs": [
    {
     "data": {
      "text/plain": [
       "array([[ 1,  2,  3,  4,  5],\n",
       "       [ 6,  7,  8,  9, 10],\n",
       "       [11, 12, 13, 14, 15],\n",
       "       [16, 17, 18, 19, 20],\n",
       "       [21, 22, 23, 24, 25],\n",
       "       [26, 27, 28, 29, 30]])"
      ]
     },
     "execution_count": 181,
     "metadata": {},
     "output_type": "execute_result"
    }
   ],
   "source": [
    "x"
   ]
  },
  {
   "cell_type": "code",
   "execution_count": 182,
   "id": "d5e3a802",
   "metadata": {},
   "outputs": [
    {
     "data": {
      "text/plain": [
       "array([[ 4,  5],\n",
       "       [24, 25],\n",
       "       [29, 30]])"
      ]
     },
     "execution_count": 182,
     "metadata": {},
     "output_type": "execute_result"
    }
   ],
   "source": [
    "x[[0,4,5],3:]"
   ]
  },
  {
   "cell_type": "markdown",
   "id": "9fe5c323",
   "metadata": {},
   "source": [
    "![](C:/Users/Chetan/Desktop/DA/Python/Numpy/1.jpg)\n"
   ]
  },
  {
   "cell_type": "code",
   "execution_count": null,
   "id": "56048649",
   "metadata": {},
   "outputs": [],
   "source": []
  },
  {
   "cell_type": "code",
   "execution_count": 183,
   "id": "221a4525",
   "metadata": {},
   "outputs": [
    {
     "data": {
      "image/jpeg": "[encoded data removed]",
      "text/plain": [
       "<IPython.core.display.Image object>"
      ]
     },
     "execution_count": 183,
     "metadata": {},
     "output_type": "execute_result"
    }
   ],
   "source": [
    "# displaying index using python code\n",
    "\n",
    "\n",
    "# pip install ipython\n",
    "from IPython.display import Image\n",
    "Image(filename=\"C:/Users/Chetan/Desktop/DA/Python/Numpy/1.jpg\")"
   ]
  },
  {
   "cell_type": "markdown",
   "id": "86dbb3dd",
   "metadata": {},
   "source": [
    "#Displaying using Markdown\n",
    "![Find index?](C:/Users/Chetan/Desktop/DA/Python/Numpy/1.jpg)"
   ]
  },
  {
   "cell_type": "code",
   "execution_count": 184,
   "id": "0007c768",
   "metadata": {},
   "outputs": [
    {
     "data": {
      "text/plain": [
       "'\\n\\nDisplaying Image in Jupyter\\n\\n3 methods\\n\\n1. Direct method:\\n                1. cell--> markdown\\n                2. click on Edit option in jupyter ribbon\\n                3. select insert image\\n                4. then insert which image u want \\n                5. if can write some thing , you can below image\\n                \\n                \\n2. by using Python code:\\n                        1. pip install ipython\\n                        2. from IPython.display import Image\\n                        3. Image(filename=\"path/path1/drive/file.jpg\")        \\n                        4. we can insert jpeg, jpg, png format\\n\\n3. By using Markdown:\\n                    1. select cell into markdown\\n                    2. ![Image Description](path/path1/drive/file.jpg)\\n                    3. we can insert jpeg, jpg, png format\\n\\n\\n                    \\n              \\n'"
      ]
     },
     "execution_count": 184,
     "metadata": {},
     "output_type": "execute_result"
    }
   ],
   "source": [
    "\"\"\"\n",
    "\n",
    "Displaying Image in Jupyter\n",
    "\n",
    "3 methods\n",
    "\n",
    "1. Direct method:\n",
    "                1. cell--> markdown\n",
    "                2. click on Edit option in jupyter ribbon\n",
    "                3. select insert image\n",
    "                4. then insert which image u want \n",
    "                5. if can write some thing , you can below image\n",
    "                \n",
    "                \n",
    "2. by using Python code:\n",
    "                        1. pip install ipython\n",
    "                        2. from IPython.display import Image\n",
    "                        3. Image(filename=\"path/path1/drive/file.jpg\")        \n",
    "                        4. we can insert jpeg, jpg, png format\n",
    "\n",
    "3. By using Markdown:\n",
    "                    1. select cell into markdown\n",
    "                    2. ![Image Description](path/path1/drive/file.jpg)\n",
    "                    3. we can insert jpeg, jpg, png format\n",
    "\n",
    "\n",
    "                    \n",
    "              \n",
    "\"\"\""
   ]
  },
  {
   "cell_type": "code",
   "execution_count": null,
   "id": "50b1af09",
   "metadata": {},
   "outputs": [],
   "source": []
  },
  {
   "cell_type": "code",
   "execution_count": 185,
   "id": "7a687886",
   "metadata": {},
   "outputs": [
    {
     "data": {
      "text/plain": [
       "'\\n    --------------------\\n    -------------\\n    -\\n    -\\n    -\\n    -\\n-------------\\n\\n\\n\\n\\n'"
      ]
     },
     "execution_count": 185,
     "metadata": {},
     "output_type": "execute_result"
    }
   ],
   "source": [
    "# For multile comment(tripple quotes)\n",
    "\n",
    "\"\"\"\n",
    "    --------------------\n",
    "    -------------\n",
    "    -\n",
    "    -\n",
    "    -\n",
    "    -\n",
    "-------------\n",
    "\n",
    "\n",
    "\n",
    "\n",
    "\"\"\""
   ]
  },
  {
   "cell_type": "code",
   "execution_count": null,
   "id": "2ae5c64c",
   "metadata": {},
   "outputs": [],
   "source": []
  }
 ],
 "metadata": {
  "kernelspec": {
   "display_name": "Python 3 (ipykernel)",
   "language": "python",
   "name": "python3"
  },
  "language_info": {
   "codemirror_mode": {
    "name": "ipython",
    "version": 3
   },
   "file_extension": ".py",
   "mimetype": "text/x-python",
   "name": "python",
   "nbconvert_exporter": "python",
   "pygments_lexer": "ipython3",
   "version": "3.8.16"
  }
 },
 "nbformat": 4,
 "nbformat_minor": 5
}
